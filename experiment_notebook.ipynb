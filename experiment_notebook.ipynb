{
 "cells": [
  {
   "cell_type": "markdown",
   "metadata": {},
   "source": [
    "## Post Assistant\n"
   ]
  },
  {
   "cell_type": "code",
   "execution_count": 1,
   "metadata": {},
   "outputs": [],
   "source": [
    "from langchain_core.prompts import ChatPromptTemplate\n",
    "from langchain_groq import ChatGroq\n",
    "import os\n",
    "from dotenv import load_dotenv\n",
    "from tavily import TavilyClient\n",
    "\n",
    "_ = load_dotenv()"
   ]
  },
  {
   "cell_type": "code",
   "execution_count": 2,
   "metadata": {},
   "outputs": [],
   "source": [
    "from langgraph.graph import StateGraph, END\n",
    "from typing import TypedDict, Annotated, List\n",
    "import operator\n",
    "from langgraph.checkpoint.sqlite import SqliteSaver\n",
    "from langchain_core.messages import AnyMessage, SystemMessage, HumanMessage, AIMessage, ChatMessage\n",
    "\n",
    "memory = SqliteSaver.from_conn_string(\":memory:\")"
   ]
  },
  {
   "cell_type": "code",
   "execution_count": 3,
   "metadata": {},
   "outputs": [],
   "source": [
    "# setting up groq api key\n",
    "os.environ[\"GROQ_API_KEY\"] = os.getenv(\"GROQ_API_KEY\")\n",
    "\n",
    "tavily = TavilyClient(api_key=os.environ[\"TAVILY_API_KEY\"])"
   ]
  },
  {
   "cell_type": "code",
   "execution_count": 4,
   "metadata": {},
   "outputs": [],
   "source": [
    "# chat set up\n",
    "model = ChatGroq(temperature=0, model_name=\"llama3-8b-8192\")"
   ]
  },
  {
   "cell_type": "code",
   "execution_count": 5,
   "metadata": {},
   "outputs": [
    {
     "name": "stdout",
     "output_type": "stream",
     "text": [
      "I'm just an AI, I don't have feelings or emotions like humans do, so I don't have a good or bad day. I'm just here to help answer your questions and provide information to the best of my ability. How can I assist you today?\n"
     ]
    }
   ],
   "source": [
    "# testing the model\n",
    "print(model.invoke(\"Hello, how are you?\").content)"
   ]
  },
  {
   "cell_type": "markdown",
   "metadata": {},
   "source": [
    "## Agent - 1: Post rewritter/enhancer\n"
   ]
  },
  {
   "cell_type": "markdown",
   "metadata": {},
   "source": [
    "#### Input:\n",
    "\n",
    "- Instruction\n",
    "- Post\n"
   ]
  },
  {
   "cell_type": "markdown",
   "metadata": {},
   "source": [
    "#### Process.\n",
    "\n",
    "- task: task\n",
    "- plan: Plan on making it better\n",
    "- draft: The initial post draft\n",
    "- critique: Analyzing the generated post to be sure it good.\n",
    "- content: The post content\n",
    "- revision_number: The number of revisions made\n",
    "- max_revision : The max number of revisions made while processing the post\n"
   ]
  },
  {
   "cell_type": "code",
   "execution_count": 6,
   "metadata": {},
   "outputs": [],
   "source": [
    "class AgentState(TypedDict):\n",
    "    task: str\n",
    "    plan: str\n",
    "    draft: str\n",
    "    critique: str\n",
    "    content: List[str]\n",
    "    revision_number: int\n",
    "    max_revisions: int"
   ]
  },
  {
   "cell_type": "code",
   "execution_count": 7,
   "metadata": {},
   "outputs": [],
   "source": [
    "PLAN_PROMPT = \"\"\"You are an expert post creator tasked with writing and crafting a high level outline on how to improve a post. \\\n",
    "You observe the user instruction and initial post, then create an outline on it's improvement. \\\n",
    "Understand the user's instruction and the post, then create a plan on how to improve the post. \\\n",
    "Give an outline of the post improvement along with any relevant notes or instructions for the sections.\\\n",
    "Remember to observe the paragraph structure and the content of the post. Add all relevant information to the outline.\n",
    "\"\"\""
   ]
  },
  {
   "cell_type": "code",
   "execution_count": 8,
   "metadata": {},
   "outputs": [],
   "source": [
    "WRITER_PROMPT = \"\"\"You are a post assistant tasked with writing, crafting, improving and enhancing posts.\\\n",
    "Generate the best content possible for the user's request and the initial outline. \\\n",
    "If the user provides critique, respond with a revised version of your previous attempts. \\\n",
    "Utilize all the information below as needed: \n",
    "\n",
    "------\n",
    "\n",
    "{content}\"\"\""
   ]
  },
  {
   "cell_type": "code",
   "execution_count": 9,
   "metadata": {},
   "outputs": [],
   "source": [
    "REFLECTION_PROMPT = \"\"\"You are a teacher grading an post submission. \\\n",
    "Generate critique and recommendations for the user's submission. \\\n",
    "Provide detailed recommendations, including requests for tone, length, depth, style, etc.\"\"\""
   ]
  },
  {
   "cell_type": "code",
   "execution_count": 10,
   "metadata": {},
   "outputs": [],
   "source": [
    "RESEARCH_PLAN_PROMPT = \"\"\"You are a researcher charged with providing information that can \\\n",
    "be used when composing the a better post. Generate a list of search queries that will gather \\\n",
    "any relevant information. Only generate 2 queries max. it should be relevant to the post and the user's instruction.\\\n",
    "If there's no need for a query, respond with \"None\".    \n",
    "\"\"\"\n"
   ]
  },
  {
   "cell_type": "code",
   "execution_count": 11,
   "metadata": {},
   "outputs": [],
   "source": [
    "RESEARCH_CRITIQUE_PROMPT = \"\"\"You are a researcher charged with providing information that can \\\n",
    "be used when making any requested revisions (as outlined below). \\\n",
    "Generate a list of search queries that will gather any relevant information. Only generate 3 queries max.\"\"\"\n"
   ]
  },
  {
   "cell_type": "code",
   "execution_count": 12,
   "metadata": {},
   "outputs": [],
   "source": [
    "from langchain_core.pydantic_v1 import BaseModel\n",
    "import time\n",
    "\n",
    "class Queries(BaseModel):\n",
    "    queries: List[str]"
   ]
  },
  {
   "cell_type": "code",
   "execution_count": 13,
   "metadata": {},
   "outputs": [],
   "source": [
    "def plan_node(state: AgentState):\n",
    "    messages = [\n",
    "        SystemMessage(content=PLAN_PROMPT), \n",
    "        HumanMessage(content=state['task'])\n",
    "    ]\n",
    "    response = model.invoke(messages)\n",
    "    return {\"plan\": response.content}"
   ]
  },
  {
   "cell_type": "code",
   "execution_count": 14,
   "metadata": {},
   "outputs": [],
   "source": [
    "def research_plan_node(state: AgentState):\n",
    "    queries = model.with_structured_output(Queries).invoke([\n",
    "        SystemMessage(content=RESEARCH_PLAN_PROMPT),\n",
    "        HumanMessage(content=state['task'])\n",
    "    ])\n",
    "    content = state['content'] or []\n",
    "    for q in queries.queries:\n",
    "        response = tavily.search(query=q, max_results=2)\n",
    "        for r in response['results']:\n",
    "            content.append(r['content'])\n",
    "    return {\"content\": content}"
   ]
  },
  {
   "cell_type": "code",
   "execution_count": 15,
   "metadata": {},
   "outputs": [],
   "source": [
    "def generation_node(state: AgentState):\n",
    "    content = \"\\n\\n\".join(state['content'] or [])\n",
    "    user_message = HumanMessage(\n",
    "        content=f\"{state['task']}\\n\\nHere is my plan:\\n\\n{state['plan']}\")\n",
    "    messages = [\n",
    "        SystemMessage(\n",
    "            content=WRITER_PROMPT.format(content=content)\n",
    "        ),\n",
    "        user_message\n",
    "        ]\n",
    "    response = model.invoke(messages)\n",
    "    return {\n",
    "        \"draft\": response.content, \n",
    "        \"revision_number\": state.get(\"revision_number\", 1) + 1\n",
    "    }\n"
   ]
  },
  {
   "cell_type": "code",
   "execution_count": 16,
   "metadata": {},
   "outputs": [],
   "source": [
    "def reflection_node(state: AgentState):\n",
    "    messages = [\n",
    "        SystemMessage(content=REFLECTION_PROMPT), \n",
    "        HumanMessage(content=state['draft'])\n",
    "    ]\n",
    "    response = model.invoke(messages)\n",
    "    return {\"critique\": response.content}"
   ]
  },
  {
   "cell_type": "code",
   "execution_count": 17,
   "metadata": {},
   "outputs": [],
   "source": [
    "def research_critique_node(state: AgentState):\n",
    "    queries = model.with_structured_output(Queries).invoke([\n",
    "        SystemMessage(content=RESEARCH_CRITIQUE_PROMPT),\n",
    "        HumanMessage(content=state['critique'])\n",
    "    ])\n",
    "    content = state['content'] or []\n",
    "    for q in queries.queries:\n",
    "        response = tavily.search(query=q, max_results=2)\n",
    "        for r in response['results']:\n",
    "            content.append(r['content'])\n",
    "    return {\"content\": content}"
   ]
  },
  {
   "cell_type": "code",
   "execution_count": 18,
   "metadata": {},
   "outputs": [],
   "source": [
    "def should_continue(state):\n",
    "    if state[\"revision_number\"] > state[\"max_revisions\"]:\n",
    "        return END\n",
    "    return \"reflect\""
   ]
  },
  {
   "cell_type": "code",
   "execution_count": 19,
   "metadata": {},
   "outputs": [],
   "source": [
    "builder = StateGraph(AgentState)"
   ]
  },
  {
   "cell_type": "code",
   "execution_count": 20,
   "metadata": {},
   "outputs": [],
   "source": [
    "builder.add_node(\"planner\", plan_node)\n",
    "builder.add_node(\"generate\", generation_node)\n",
    "builder.add_node(\"reflect\", reflection_node)\n",
    "builder.add_node(\"research_plan\", research_plan_node)\n",
    "builder.add_node(\"research_critique\", research_critique_node)"
   ]
  },
  {
   "cell_type": "code",
   "execution_count": 21,
   "metadata": {},
   "outputs": [],
   "source": [
    "builder.set_entry_point(\"planner\")"
   ]
  },
  {
   "cell_type": "code",
   "execution_count": 22,
   "metadata": {},
   "outputs": [],
   "source": [
    "builder.add_conditional_edges(\n",
    "    \"generate\", \n",
    "    should_continue, \n",
    "    {END: END, \"reflect\": \"reflect\"}\n",
    ")\n"
   ]
  },
  {
   "cell_type": "code",
   "execution_count": 23,
   "metadata": {},
   "outputs": [],
   "source": [
    "builder.add_edge(\"planner\", \"research_plan\")\n",
    "builder.add_edge(\"research_plan\", \"generate\")\n",
    "\n",
    "builder.add_edge(\"reflect\", \"research_critique\")\n",
    "builder.add_edge(\"research_critique\", \"generate\")"
   ]
  },
  {
   "cell_type": "code",
   "execution_count": 24,
   "metadata": {},
   "outputs": [],
   "source": [
    "graph = builder.compile(checkpointer=memory)"
   ]
  },
  {
   "cell_type": "code",
   "execution_count": 25,
   "metadata": {},
   "outputs": [],
   "source": [
    "from IPython.display import Image\n",
    "\n",
    "# Image(graph.get_graph().draw_png())"
   ]
  },
  {
   "cell_type": "code",
   "execution_count": 26,
   "metadata": {},
   "outputs": [
    {
     "name": "stdout",
     "output_type": "stream",
     "text": [
      "{'planner': {'plan': 'Here is a high-level outline on how to improve the post:\\n\\nI. Introduction\\n\\n* Start with a hook to grab the reader\\'s attention\\n* Introduce the topic of data science and its importance\\n* Thesis statement: Data science is a powerful tool that can transform industries and improve our daily lives\\n\\nII. What is Data Science?\\n\\n* Define data science and its components (programming, statistics, and domain expertise)\\n* Explain the process of data science (collecting, cleaning, analyzing, and visualizing data)\\n* Provide examples of how data science is used in different industries\\n\\nIII. Benefits of Data Science\\n\\n* Discuss the benefits of data science, such as:\\n\\t+ Uncovering patterns and trends\\n\\t+ Driving innovation and growth\\n\\t+ Improving decision-making\\n* Provide examples of how data science is transforming industries\\n\\nIV. How Data Science Impacts Daily Life\\n\\n* End with a question that encourages readers to think about how data science impacts their daily life\\n* Example: \"How do you see data science impacting your daily life?\"\\n\\nV. Additional Resources\\n\\n* Provide a link to a beginner\\'s guide to data science for more information\\n* Consider adding a call-to-action, such as \"Start exploring data science today!\"\\n\\nNotes:\\n\\n* Use a clear and concise writing style\\n* Use headings and subheadings to break up the text and make it easier to read\\n* Use bullet points and short paragraphs to make the text more scannable\\n* Consider adding images or infographics to illustrate key concepts\\n* Make sure to proofread and edit the post for grammar, spelling, and punctuation errors\\n\\nBy following this outline, the post can be improved to engage readers and provide a clear and concise overview of data science.'}}\n",
      "{'research_plan': {'content': ['If you Googled today, data science has already affected your life. Google touches everything you do online, so it\\'s a great starting point to discuss the impact of data science on your daily life. If you search \"Google,\" you\\'ll get over 11 billion results before you can blink. It\\'s not magic, just very smart algorithms and models.', 'Music, Shows, and Movies. One of the most apparent and personal ways big data affects your personal life is through the entertainment and media you consume. This includes music streaming services as well as television and film platforms. Streaming has revolutionized the music industry, and most people use one or more of the most popular music ...']}}\n",
      "{'generate': {'draft': \"Here's a rewritten version of the post that incorporates the outline and engages readers:\\n\\n📊 Exploring Data Science 📊\\n\\nHave you ever wondered how your favorite music streaming service knows exactly what songs to recommend to you? Or how your favorite TV show knows exactly when to release its next episode? It's all thanks to data science!\\n\\nData science is the process of extracting insights from data to make informed decisions. It's a powerful tool that combines programming, statistics, and domain expertise to uncover patterns and drive innovation. In this post, we'll explore what data science is, its benefits, and how it impacts our daily lives.\\n\\n**What is Data Science?**\\n\\nData science is a multidisciplinary field that involves collecting, cleaning, analyzing, and visualizing data to gain insights. It's used in various industries, from healthcare to finance, to uncover trends and make data-driven decisions.\\n\\n**Benefits of Data Science**\\n\\nData science has numerous benefits, including:\\n\\n• Uncovering patterns and trends to inform business decisions\\n• Driving innovation and growth through data-driven insights\\n• Improving decision-making through data analysis\\n\\nFor example, data science is transforming the music industry by helping streaming services like Spotify and Apple Music recommend personalized playlists to users.\\n\\n**How Data Science Impacts Daily Life**\\n\\nFrom music streaming to TV shows and movies, data science is all around us. But how does it impact your daily life? Do you use a music streaming service that recommends songs based on your listening habits? Do you watch TV shows that are released on a schedule determined by data analysis?\\n\\n**Take the Next Step**\\n\\nWant to learn more about data science and how it can impact your daily life? Check out this beginner's guide to data science for more information.\\n\\n**How do you see data science impacting your daily life?**\\n\\nAs you can see, data science is all around us, transforming industries and improving our daily lives. Whether you're a music lover, a TV enthusiast, or just someone who wants to make informed decisions, data science is an exciting field that's worth exploring.\\n\\nStart exploring data science today and discover how it can impact your daily life!\\n\\n[Link to beginner's guide to data science]\\n\\nI hope this rewritten version meets your requirements! Let me know if you have any further requests or critiques.\", 'revision_number': 2}}\n",
      "{'reflect': {'critique': \"Overall, your rewritten post is engaging, informative, and easy to follow. Here are some specific strengths and areas for improvement:\\n\\nStrengths:\\n\\n1. You've done a great job of incorporating the outline and making the post easy to follow.\\n2. Your writing is clear and concise, making it accessible to a wide range of readers.\\n3. You've provided specific examples to illustrate the benefits and impact of data science, which helps to make the concept more relatable and interesting.\\n4. Your call-to-action at the end is clear and encourages readers to take the next step.\\n\\nAreas for improvement:\\n\\n1. Tone: While your post is informative and engaging, it's written in a fairly formal tone. Consider adding a bit of personality and humor to make it more relatable and entertaining.\\n2. Length: The post is a good length, but some of the paragraphs could be condensed or reorganized to make it even more concise.\\n3. Depth: While you've provided some good examples, consider adding more depth and nuance to your explanations. For example, you could explore the technical aspects of data science or provide more specific examples of how it's used in different industries.\\n4. Style: Consider varying your sentence structure and using more active voice to make the writing more dynamic.\\n5. Transitions: Some of the paragraphs feel a bit disconnected. Consider adding transitional phrases or sentences to help the reader follow your train of thought.\\n6. Conclusion: While your conclusion is clear, it feels a bit abrupt. Consider adding a final thought or call-to-action to leave the reader with something to think about.\\n\\nRecommendations:\\n\\n1. Consider adding a brief anecdote or personal story to make the post more relatable and engaging.\\n2. Use more descriptive language to help readers visualize the concepts you're discussing.\\n3. Consider adding more visuals, such as infographics or images, to break up the text and make it more visually appealing.\\n4. Use subheadings or bullet points to make the post easier to scan and understand.\\n5. Consider adding a brief summary or key takeaways at the end to help readers quickly grasp the main points.\\n\\nHere's an example of how you could revise the post to incorporate some of these recommendations:\\n\\n📊 Exploring Data Science 📊\\n\\nHave you ever wondered how your favorite music streaming service knows exactly what songs to recommend to you? Or how your favorite TV show knows exactly when to release its next episode? It's all thanks to data science!\\n\\nData science is the process of extracting insights from data to make informed decisions. It's a powerful tool that combines programming, statistics, and domain expertise to uncover patterns and drive innovation. But what makes it so powerful? Let me tell you a story about how data science helped a music streaming service transform its recommendation algorithm.\\n\\n**What is Data Science?**\\n\\nData science is a multidisciplinary field that involves collecting, cleaning, analyzing, and visualizing data to gain insights. It's used in various industries, from healthcare to finance, to uncover trends and make data-driven decisions. But did you know that data science is also used in the music industry to create personalized playlists?\\n\\n**Benefits of Data Science**\\n\\nData science has numerous benefits, including:\\n\\n• Uncovering patterns and trends to inform business decisions\\n• Driving innovation and growth through data-driven insights\\n• Improving decision-making through data analysis\\n\\nFor example, data science is transforming the music industry by helping streaming services like Spotify and Apple Music recommend personalized playlists to users. But how does it impact your daily life? Do you use a music streaming service that recommends songs based on your listening habits? Do you watch TV shows that are released on a schedule determined by data analysis?\\n\\n**How Data Science Impacts Daily Life**\\n\\nFrom music streaming to TV shows and movies, data science is all around us. But how does it impact your daily life? Do you use a music streaming service that recommends songs based on your listening habits? Do you watch TV shows that are released on a schedule determined by data analysis?\\n\\n**Take the Next Step**\\n\\nWant to learn more about data science and how it can impact your daily life? Check out this beginner's guide to data science for more information.\\n\\n**How do you see data science impacting your daily life?**\\n\\nAs you can see, data science is all around us, transforming industries and improving our daily lives. Whether you're a music lover, a TV enthusiast, or just someone who wants to make informed decisions, data science is an exciting field that's worth exploring.\\n\\nStart exploring data science today and discover how it can impact your daily life!\\n\\n[Link to beginner's guide to data science]\\n\\nI hope this revised version meets your requirements! Let me know if you have any further requests or critiques.\"}}\n",
      "{'research_critique': {'content': ['If you Googled today, data science has already affected your life. Google touches everything you do online, so it\\'s a great starting point to discuss the impact of data science on your daily life. If you search \"Google,\" you\\'ll get over 11 billion results before you can blink. It\\'s not magic, just very smart algorithms and models.', 'Music, Shows, and Movies. One of the most apparent and personal ways big data affects your personal life is through the entertainment and media you consume. This includes music streaming services as well as television and film platforms. Streaming has revolutionized the music industry, and most people use one or more of the most popular music ...', 'SOME requires the scalar_expression to compare positively to at least one value returned by the subquery. For statements that require the scalar_expression to compare positively to every value that is returned by the subquery, see ALL (Transact-SQL). For instance, if the subquery returns values of 2 and 3, scalar_expression = SOME (subquery ...', '1. Structured Query language (SQL): A structured Query language is a computer language for a relational database system. Relational database system like MySQL oracle Sybase Informix uses SQL as standard database language for storing retrieving manipulating data and store in a relational database. Here are some SQL commands that are used for communi', \"The instructors with salary > (salary of some instructor in the 'Computer Science' department) get returned. The salaries in the 'Computer Science' department are 1.3, 2 and 2. This implies any instructor with a salary greater than 1.3 can be included in the final result. Exercise: Try to write same query using ANY clause.\", 'Remarks. SOME requires the scalar_expression to compare positively to at least one value returned by the subquery. For statements that require the scalar_expression to compare positively to every value that is returned by the subquery, see ALL (Transact-SQL). For instance, if the subquery returns values of 2 and 3, scalar_expression = SOME ...']}}\n",
      "{'generate': {'draft': \"Here's a rewritten version of the post that incorporates the outline and suggestions:\\n\\n📊 Exploring Data Science 📊\\n\\n**The Power of Data Science**\\n\\nHave you ever wondered how your favorite music streaming service knows exactly what songs to recommend to you? Or how your favorite TV show knows exactly what you'll love to watch next? It's all thanks to the magic of data science! 🧙\\u200d♀️\\n\\nData science is a powerful tool that combines programming, statistics, and domain expertise to extract insights from data. It's a field that's transforming industries and improving our daily lives. But what exactly is data science, and how does it work?\\n\\n**What is Data Science?**\\n\\nData science is a process that involves collecting, cleaning, analyzing, and visualizing data to make informed decisions. It's a field that's used in various industries, from healthcare to finance, and even entertainment. For example, music streaming services use data science to recommend songs based on your listening habits. 🎵\\n\\n**Benefits of Data Science**\\n\\nData science has many benefits, including:\\n\\n• Uncovering patterns and trends\\n• Driving innovation and growth\\n• Improving decision-making\\n\\nFor instance, data science has transformed the healthcare industry by enabling doctors to make more accurate diagnoses and develop personalized treatment plans. 🏥\\n\\n**How Data Science Impacts Daily Life**\\n\\nSo, how does data science impact your daily life? Do you use music streaming services like Spotify or Apple Music? Do you watch TV shows or movies on Netflix or Hulu? Data science is likely playing a role in your entertainment choices. 📺\\n\\n**Take the Next Step**\\n\\nWant to learn more about data science and how it's transforming industries? Check out this beginner's guide to data science for more information. 📚\\n\\nAnd don't forget to ask yourself: **How do you see data science impacting your daily life?** 🤔\\n\\nBy following this outline, the post can be improved to engage readers and provide a clear and concise overview of data science.\", 'revision_number': 3}}\n"
     ]
    }
   ],
   "source": [
    "thread = {\"configurable\": {\"thread_id\": \"1\"}}\n",
    "post = \"\"\"\n",
    "📊 Exploring Data Science 📊\n",
    "\n",
    "Data science combines programming, statistics, and domain expertise to extract insights from data. It involves collecting, cleaning, analyzing, and visualizing data to make informed decisions.\n",
    "\n",
    "Key steps:\n",
    "\n",
    "Collect Data 🗂️\n",
    "Clean Data 🧹\n",
    "Analyze Data 📉\n",
    "Visualize Data 📊\n",
    "Data science is transforming industries by uncovering patterns and driving innovation. It's a field full of opportunities and growth.\n",
    "\n",
    "\"\"\"\n",
    "instruction = \"\"\"\n",
    "Engage Readers: End with a question like, \"How do you see data science impacting your daily life?\"\n",
    "Include Links: Provide a link to a beginner's guide to data science for more information.\n",
    "\"\"\"\n",
    "\n",
    "# combining the instruction and the post\n",
    "task = f\"{instruction}\\n\\n{post}\"\n",
    "\n",
    "# starting the thread\n",
    "for s in graph.stream({\n",
    "    'task': task,\n",
    "    \"max_revisions\": 2,\n",
    "    \"revision_number\": 1,\n",
    "}, thread):\n",
    "    print(s)"
   ]
  },
  {
   "cell_type": "code",
   "execution_count": 31,
   "metadata": {},
   "outputs": [
    {
     "name": "stdout",
     "output_type": "stream",
     "text": [
      "Here's a rewritten version of the post that incorporates the outline and suggestions:\n",
      "\n",
      "📊 Exploring Data Science 📊\n",
      "\n",
      "**The Power of Data Science**\n",
      "\n",
      "Have you ever wondered how your favorite music streaming service knows exactly what songs to recommend to you? Or how your favorite TV show knows exactly what you'll love to watch next? It's all thanks to the magic of data science! 🧙‍♀️\n",
      "\n",
      "Data science is a powerful tool that combines programming, statistics, and domain expertise to extract insights from data. It's a field that's transforming industries and improving our daily lives. But what exactly is data science, and how does it work?\n",
      "\n",
      "**What is Data Science?**\n",
      "\n",
      "Data science is a process that involves collecting, cleaning, analyzing, and visualizing data to make informed decisions. It's a field that's used in various industries, from healthcare to finance, and even entertainment. For example, music streaming services use data science to recommend songs based on your listening habits. 🎵\n",
      "\n",
      "**Benefits of Data Science**\n",
      "\n",
      "Data science has many benefits, including:\n",
      "\n",
      "• Uncovering patterns and trends\n",
      "• Driving innovation and growth\n",
      "• Improving decision-making\n",
      "\n",
      "For instance, data science has transformed the healthcare industry by enabling doctors to make more accurate diagnoses and develop personalized treatment plans. 🏥\n",
      "\n",
      "**How Data Science Impacts Daily Life**\n",
      "\n",
      "So, how does data science impact your daily life? Do you use music streaming services like Spotify or Apple Music? Do you watch TV shows or movies on Netflix or Hulu? Data science is likely playing a role in your entertainment choices. 📺\n",
      "\n",
      "**Take the Next Step**\n",
      "\n",
      "Want to learn more about data science and how it's transforming industries? Check out this beginner's guide to data science for more information. 📚\n",
      "\n",
      "And don't forget to ask yourself: **How do you see data science impacting your daily life?** 🤔\n",
      "\n",
      "By following this outline, the post can be improved to engage readers and provide a clear and concise overview of data science.\n"
     ]
    }
   ],
   "source": [
    "print(s['generate']['draft'])"
   ]
  },
  {
   "cell_type": "code",
   "execution_count": 28,
   "metadata": {},
   "outputs": [
    {
     "data": {
      "text/plain": [
       "CompiledStateGraph(nodes={'__start__': PregelNode(config={'tags': ['langsmith:hidden']}, channels=['__start__'], triggers=['__start__'], writers=[ChannelWrite<task,plan,draft,critique,content,revision_number,max_revisions>(recurse=True, writes=[ChannelWriteEntry(channel='task', value=<object object at 0x00000254EE5D6700>, skip_none=False, mapper=_get_state_key(recurse=False)), ChannelWriteEntry(channel='plan', value=<object object at 0x00000254EE5D6700>, skip_none=False, mapper=_get_state_key(recurse=False)), ChannelWriteEntry(channel='draft', value=<object object at 0x00000254EE5D6700>, skip_none=False, mapper=_get_state_key(recurse=False)), ChannelWriteEntry(channel='critique', value=<object object at 0x00000254EE5D6700>, skip_none=False, mapper=_get_state_key(recurse=False)), ChannelWriteEntry(channel='content', value=<object object at 0x00000254EE5D6700>, skip_none=False, mapper=_get_state_key(recurse=False)), ChannelWriteEntry(channel='revision_number', value=<object object at 0x00000254EE5D6700>, skip_none=False, mapper=_get_state_key(recurse=False)), ChannelWriteEntry(channel='max_revisions', value=<object object at 0x00000254EE5D6700>, skip_none=False, mapper=_get_state_key(recurse=False))], require_at_least_one_of=['task', 'plan', 'draft', 'critique', 'content', 'revision_number', 'max_revisions']), ChannelWrite<start:planner>(recurse=True, writes=[ChannelWriteEntry(channel='start:planner', value='__start__', skip_none=False, mapper=None)], require_at_least_one_of=None)]), 'planner': PregelNode(config={'tags': []}, channels={'task': 'task', 'plan': 'plan', 'draft': 'draft', 'critique': 'critique', 'content': 'content', 'revision_number': 'revision_number', 'max_revisions': 'max_revisions'}, triggers=['start:planner'], mapper=functools.partial(<function _coerce_state at 0x00000254EFBDC180>, <class '__main__.AgentState'>), writers=[ChannelWrite<planner,task,plan,draft,critique,content,revision_number,max_revisions>(recurse=True, writes=[ChannelWriteEntry(channel='planner', value='planner', skip_none=False, mapper=None), ChannelWriteEntry(channel='task', value=<object object at 0x00000254EE5D6700>, skip_none=False, mapper=_get_state_key(recurse=False)), ChannelWriteEntry(channel='plan', value=<object object at 0x00000254EE5D6700>, skip_none=False, mapper=_get_state_key(recurse=False)), ChannelWriteEntry(channel='draft', value=<object object at 0x00000254EE5D6700>, skip_none=False, mapper=_get_state_key(recurse=False)), ChannelWriteEntry(channel='critique', value=<object object at 0x00000254EE5D6700>, skip_none=False, mapper=_get_state_key(recurse=False)), ChannelWriteEntry(channel='content', value=<object object at 0x00000254EE5D6700>, skip_none=False, mapper=_get_state_key(recurse=False)), ChannelWriteEntry(channel='revision_number', value=<object object at 0x00000254EE5D6700>, skip_none=False, mapper=_get_state_key(recurse=False)), ChannelWriteEntry(channel='max_revisions', value=<object object at 0x00000254EE5D6700>, skip_none=False, mapper=_get_state_key(recurse=False))], require_at_least_one_of=['task', 'plan', 'draft', 'critique', 'content', 'revision_number', 'max_revisions'])]), 'generate': PregelNode(config={'tags': []}, channels={'task': 'task', 'plan': 'plan', 'draft': 'draft', 'critique': 'critique', 'content': 'content', 'revision_number': 'revision_number', 'max_revisions': 'max_revisions'}, triggers=['research_plan', 'research_critique'], mapper=functools.partial(<function _coerce_state at 0x00000254EFBDC180>, <class '__main__.AgentState'>), writers=[ChannelWrite<generate,task,plan,draft,critique,content,revision_number,max_revisions>(recurse=True, writes=[ChannelWriteEntry(channel='generate', value='generate', skip_none=False, mapper=None), ChannelWriteEntry(channel='task', value=<object object at 0x00000254EE5D6700>, skip_none=False, mapper=_get_state_key(recurse=False)), ChannelWriteEntry(channel='plan', value=<object object at 0x00000254EE5D6700>, skip_none=False, mapper=_get_state_key(recurse=False)), ChannelWriteEntry(channel='draft', value=<object object at 0x00000254EE5D6700>, skip_none=False, mapper=_get_state_key(recurse=False)), ChannelWriteEntry(channel='critique', value=<object object at 0x00000254EE5D6700>, skip_none=False, mapper=_get_state_key(recurse=False)), ChannelWriteEntry(channel='content', value=<object object at 0x00000254EE5D6700>, skip_none=False, mapper=_get_state_key(recurse=False)), ChannelWriteEntry(channel='revision_number', value=<object object at 0x00000254EE5D6700>, skip_none=False, mapper=_get_state_key(recurse=False)), ChannelWriteEntry(channel='max_revisions', value=<object object at 0x00000254EE5D6700>, skip_none=False, mapper=_get_state_key(recurse=False))], require_at_least_one_of=['task', 'plan', 'draft', 'critique', 'content', 'revision_number', 'max_revisions']), _route(recurse=True, _is_channel_writer=True)]), 'reflect': PregelNode(config={'tags': []}, channels={'task': 'task', 'plan': 'plan', 'draft': 'draft', 'critique': 'critique', 'content': 'content', 'revision_number': 'revision_number', 'max_revisions': 'max_revisions'}, triggers=['branch:generate:should_continue:reflect'], mapper=functools.partial(<function _coerce_state at 0x00000254EFBDC180>, <class '__main__.AgentState'>), writers=[ChannelWrite<reflect,task,plan,draft,critique,content,revision_number,max_revisions>(recurse=True, writes=[ChannelWriteEntry(channel='reflect', value='reflect', skip_none=False, mapper=None), ChannelWriteEntry(channel='task', value=<object object at 0x00000254EE5D6700>, skip_none=False, mapper=_get_state_key(recurse=False)), ChannelWriteEntry(channel='plan', value=<object object at 0x00000254EE5D6700>, skip_none=False, mapper=_get_state_key(recurse=False)), ChannelWriteEntry(channel='draft', value=<object object at 0x00000254EE5D6700>, skip_none=False, mapper=_get_state_key(recurse=False)), ChannelWriteEntry(channel='critique', value=<object object at 0x00000254EE5D6700>, skip_none=False, mapper=_get_state_key(recurse=False)), ChannelWriteEntry(channel='content', value=<object object at 0x00000254EE5D6700>, skip_none=False, mapper=_get_state_key(recurse=False)), ChannelWriteEntry(channel='revision_number', value=<object object at 0x00000254EE5D6700>, skip_none=False, mapper=_get_state_key(recurse=False)), ChannelWriteEntry(channel='max_revisions', value=<object object at 0x00000254EE5D6700>, skip_none=False, mapper=_get_state_key(recurse=False))], require_at_least_one_of=['task', 'plan', 'draft', 'critique', 'content', 'revision_number', 'max_revisions'])]), 'research_plan': PregelNode(config={'tags': []}, channels={'task': 'task', 'plan': 'plan', 'draft': 'draft', 'critique': 'critique', 'content': 'content', 'revision_number': 'revision_number', 'max_revisions': 'max_revisions'}, triggers=['planner'], mapper=functools.partial(<function _coerce_state at 0x00000254EFBDC180>, <class '__main__.AgentState'>), writers=[ChannelWrite<research_plan,task,plan,draft,critique,content,revision_number,max_revisions>(recurse=True, writes=[ChannelWriteEntry(channel='research_plan', value='research_plan', skip_none=False, mapper=None), ChannelWriteEntry(channel='task', value=<object object at 0x00000254EE5D6700>, skip_none=False, mapper=_get_state_key(recurse=False)), ChannelWriteEntry(channel='plan', value=<object object at 0x00000254EE5D6700>, skip_none=False, mapper=_get_state_key(recurse=False)), ChannelWriteEntry(channel='draft', value=<object object at 0x00000254EE5D6700>, skip_none=False, mapper=_get_state_key(recurse=False)), ChannelWriteEntry(channel='critique', value=<object object at 0x00000254EE5D6700>, skip_none=False, mapper=_get_state_key(recurse=False)), ChannelWriteEntry(channel='content', value=<object object at 0x00000254EE5D6700>, skip_none=False, mapper=_get_state_key(recurse=False)), ChannelWriteEntry(channel='revision_number', value=<object object at 0x00000254EE5D6700>, skip_none=False, mapper=_get_state_key(recurse=False)), ChannelWriteEntry(channel='max_revisions', value=<object object at 0x00000254EE5D6700>, skip_none=False, mapper=_get_state_key(recurse=False))], require_at_least_one_of=['task', 'plan', 'draft', 'critique', 'content', 'revision_number', 'max_revisions'])]), 'research_critique': PregelNode(config={'tags': []}, channels={'task': 'task', 'plan': 'plan', 'draft': 'draft', 'critique': 'critique', 'content': 'content', 'revision_number': 'revision_number', 'max_revisions': 'max_revisions'}, triggers=['reflect'], mapper=functools.partial(<function _coerce_state at 0x00000254EFBDC180>, <class '__main__.AgentState'>), writers=[ChannelWrite<research_critique,task,plan,draft,critique,content,revision_number,max_revisions>(recurse=True, writes=[ChannelWriteEntry(channel='research_critique', value='research_critique', skip_none=False, mapper=None), ChannelWriteEntry(channel='task', value=<object object at 0x00000254EE5D6700>, skip_none=False, mapper=_get_state_key(recurse=False)), ChannelWriteEntry(channel='plan', value=<object object at 0x00000254EE5D6700>, skip_none=False, mapper=_get_state_key(recurse=False)), ChannelWriteEntry(channel='draft', value=<object object at 0x00000254EE5D6700>, skip_none=False, mapper=_get_state_key(recurse=False)), ChannelWriteEntry(channel='critique', value=<object object at 0x00000254EE5D6700>, skip_none=False, mapper=_get_state_key(recurse=False)), ChannelWriteEntry(channel='content', value=<object object at 0x00000254EE5D6700>, skip_none=False, mapper=_get_state_key(recurse=False)), ChannelWriteEntry(channel='revision_number', value=<object object at 0x00000254EE5D6700>, skip_none=False, mapper=_get_state_key(recurse=False)), ChannelWriteEntry(channel='max_revisions', value=<object object at 0x00000254EE5D6700>, skip_none=False, mapper=_get_state_key(recurse=False))], require_at_least_one_of=['task', 'plan', 'draft', 'critique', 'content', 'revision_number', 'max_revisions'])])}, channels={'task': <langgraph.channels.last_value.LastValue object at 0x00000254F0F13850>, 'plan': <langgraph.channels.last_value.LastValue object at 0x00000254EEC855D0>, 'draft': <langgraph.channels.last_value.LastValue object at 0x00000254F0F13A10>, 'critique': <langgraph.channels.last_value.LastValue object at 0x00000254F0F13590>, 'content': <langgraph.channels.last_value.LastValue object at 0x00000254F0F12FD0>, 'revision_number': <langgraph.channels.last_value.LastValue object at 0x00000254F0F10850>, 'max_revisions': <langgraph.channels.last_value.LastValue object at 0x00000254F0F12E90>, '__start__': <langgraph.channels.ephemeral_value.EphemeralValue object at 0x00000254F0F09B90>, 'planner': <langgraph.channels.ephemeral_value.EphemeralValue object at 0x00000254F0F11810>, 'generate': <langgraph.channels.ephemeral_value.EphemeralValue object at 0x00000254F0EF4F10>, 'reflect': <langgraph.channels.ephemeral_value.EphemeralValue object at 0x00000254F0EF5210>, 'research_plan': <langgraph.channels.ephemeral_value.EphemeralValue object at 0x00000254F0ECC950>, 'research_critique': <langgraph.channels.ephemeral_value.EphemeralValue object at 0x00000254F0F09F10>, 'start:planner': <langgraph.channels.ephemeral_value.EphemeralValue object at 0x00000254F0F0A7D0>, 'branch:generate:should_continue:reflect': <langgraph.channels.ephemeral_value.EphemeralValue object at 0x00000254F0EF4AD0>}, auto_validate=False, stream_mode='updates', output_channels=['task', 'plan', 'draft', 'critique', 'content', 'revision_number', 'max_revisions'], stream_channels=['task', 'plan', 'draft', 'critique', 'content', 'revision_number', 'max_revisions'], input_channels='__start__', checkpointer=<langgraph.checkpoint.sqlite.SqliteSaver object at 0x00000254EE705710>, builder=<langgraph.graph.state.StateGraph object at 0x00000254F0EF7B90>)"
      ]
     },
     "execution_count": 28,
     "metadata": {},
     "output_type": "execute_result"
    }
   ],
   "source": [
    "graph"
   ]
  },
  {
   "cell_type": "code",
   "execution_count": 32,
   "metadata": {},
   "outputs": [],
   "source": [
    "# creating a function\n",
    "def run_graph(task: str, max_revisions: int = 2, thread: dict = {}):\n",
    "    for s in graph.stream({\n",
    "    'task': task,\n",
    "    \"max_revisions\": 2,\n",
    "    \"revision_number\": 1,\n",
    "    }, thread):\n",
    "        print(s)\n",
    "        \n",
    "    # return the final state\n",
    "    return s['generate']['draft']\n"
   ]
  },
  {
   "cell_type": "code",
   "execution_count": 33,
   "metadata": {},
   "outputs": [
    {
     "name": "stdout",
     "output_type": "stream",
     "text": [
      "{'planner': {'plan': 'Here is a high-level outline on how to improve the post:\\n\\nI. Introduction\\n\\n* Start with a hook to grab the reader\\'s attention\\n* Introduce the topic of data science and its importance\\n* Thesis statement: Data science is a powerful tool that can transform industries and improve our daily lives\\n\\nII. What is Data Science?\\n\\n* Define data science and its components (programming, statistics, and domain expertise)\\n* Explain the process of data science (collecting, cleaning, analyzing, and visualizing data)\\n* Provide examples of how data science is used in different industries\\n\\nIII. Benefits of Data Science\\n\\n* Discuss the benefits of data science, such as:\\n\\t+ Uncovering patterns and trends\\n\\t+ Driving innovation and growth\\n\\t+ Improving decision-making\\n* Provide examples of how data science is transforming industries\\n\\nIV. How Data Science Impacts Daily Life\\n\\n* End with a question that encourages readers to think about how data science impacts their daily life\\n* Example: \"How do you see data science impacting your daily life?\"\\n\\nV. Additional Resources\\n\\n* Provide a link to a beginner\\'s guide to data science for more information\\n* Consider adding a call-to-action, such as \"Start exploring data science today!\"\\n\\nNotes:\\n\\n* Use a clear and concise writing style\\n* Use headings and subheadings to break up the text and make it easier to read\\n* Use bullet points and short paragraphs to make the text more scannable\\n* Consider adding images or infographics to illustrate key concepts\\n* Make sure to proofread and edit the post for grammar, spelling, and punctuation errors\\n\\nBy following this outline, the post can be improved to engage readers and provide a clear and concise overview of data science.'}}\n",
      "{'research_plan': {'content': ['If you Googled today, data science has already affected your life. Google touches everything you do online, so it\\'s a great starting point to discuss the impact of data science on your daily life. If you search \"Google,\" you\\'ll get over 11 billion results before you can blink. It\\'s not magic, just very smart algorithms and models.', 'Music, Shows, and Movies. One of the most apparent and personal ways big data affects your personal life is through the entertainment and media you consume. This includes music streaming services as well as television and film platforms. Streaming has revolutionized the music industry, and most people use one or more of the most popular music ...', 'SOME requires the scalar_expression to compare positively to at least one value returned by the subquery. For statements that require the scalar_expression to compare positively to every value that is returned by the subquery, see ALL (Transact-SQL). For instance, if the subquery returns values of 2 and 3, scalar_expression = SOME (subquery ...', '1. Structured Query language (SQL): A structured Query language is a computer language for a relational database system. Relational database system like MySQL oracle Sybase Informix uses SQL as standard database language for storing retrieving manipulating data and store in a relational database. Here are some SQL commands that are used for communi', \"The instructors with salary > (salary of some instructor in the 'Computer Science' department) get returned. The salaries in the 'Computer Science' department are 1.3, 2 and 2. This implies any instructor with a salary greater than 1.3 can be included in the final result. Exercise: Try to write same query using ANY clause.\", 'Remarks. SOME requires the scalar_expression to compare positively to at least one value returned by the subquery. For statements that require the scalar_expression to compare positively to every value that is returned by the subquery, see ALL (Transact-SQL). For instance, if the subquery returns values of 2 and 3, scalar_expression = SOME ...', 'If you Googled today, data science has already affected your life. Google touches everything you do online, so it\\'s a great starting point to discuss the impact of data science on your daily life. If you search \"Google,\" you\\'ll get over 11 billion results before you can blink. It\\'s not magic, just very smart algorithms and models.', 'Data science tools and practices have become critical components of modern political campaigns and elections. Campaign strategists use data science insights to target and mobilize voters, tailor messaging, and optimize campaign strategies. Voters and engaged citizens often turn to sites like 538 to stay informed on campaign trends and potential ...']}}\n",
      "{'generate': {'draft': \"Here's a rewritten version of the post based on the provided outline and critique:\\n\\n📊 Exploring Data Science 📊\\n\\nHave you ever wondered how data science is transforming industries and improving our daily lives? From personalized recommendations to targeted advertising, data science is all around us. In this post, we'll explore the world of data science and its impact on our daily lives.\\n\\n**What is Data Science?**\\n\\nData science is a multidisciplinary field that combines programming, statistics, and domain expertise to extract insights from data. It involves collecting, cleaning, analyzing, and visualizing data to make informed decisions. Whether it's predicting customer behavior or optimizing supply chains, data science is a powerful tool that can transform industries and improve our daily lives.\\n\\n**Benefits of Data Science**\\n\\nData science offers numerous benefits, including:\\n\\n• Uncovering patterns and trends that can inform business decisions\\n• Driving innovation and growth through data-driven insights\\n• Improving decision-making through data analysis and visualization\\n\\nFrom healthcare to finance, data science is transforming industries and improving our daily lives. For example, data science is used in:\\n\\n• Personalized medicine to tailor treatment plans for patients\\n• Targeted advertising to reach specific audiences\\n• Supply chain optimization to reduce costs and improve efficiency\\n\\n**How Data Science Impacts Daily Life**\\n\\nAs you go about your daily routine, data science is likely impacting your life in ways you may not even realize. From the music you listen to on streaming services to the ads you see on social media, data science is all around us. So, the next time you search for something online, remember that data science is working behind the scenes to provide you with relevant results.\\n\\n**How do you see data science impacting your daily life?**\\n\\nFor more information on data science, check out this beginner's guide: [link to beginner's guide to data science]\\n\\n**Start exploring data science today!**\\n\\nBy following this outline, the post can be improved to engage readers and provide a clear and concise overview of data science.\", 'revision_number': 2}}\n",
      "{'reflect': {'critique': '**Critique and Recommendations**\\n\\nOverall, your rewritten post provides a clear and concise overview of data science and its impact on daily life. However, there are some areas that can be improved to make the post more engaging and effective. Here are some specific recommendations:\\n\\n**Tone:** While the post is informative, it lacks a personal touch and a conversational tone. To make the post more engaging, consider adding anecdotes or personal experiences that illustrate the impact of data science on daily life. This will help readers connect with the topic on a more emotional level.\\n\\n**Length:** The post is a good length, but some sections feel a bit repetitive. Consider condensing the \"Benefits of Data Science\" section into a single bullet point or combining similar ideas. This will help keep the post concise and focused.\\n\\n**Depth:** While the post provides a good overview of data science, it lacks depth and nuance. Consider adding more specific examples or case studies to illustrate the impact of data science on different industries or aspects of daily life. This will help readers better understand the practical applications of data science.\\n\\n**Style:** The post is written in a clear and concise style, but it could benefit from more varied sentence structures and vocabulary. Consider using active voice instead of passive voice, and vary sentence lengths to create a more dynamic reading experience.\\n\\n**Specific Recommendations:**\\n\\n1. **Add a hook:** Start the post with a hook that grabs the reader\\'s attention. This could be a surprising statistic, a thought-provoking question, or a personal anecdote that illustrates the impact of data science on daily life.\\n2. **Use more specific examples:** Instead of general statements about the benefits of data science, provide specific examples of how data science is being used in different industries or aspects of daily life. This will help readers better understand the practical applications of data science.\\n3. **Add visuals:** Consider adding images, infographics, or videos to illustrate the concepts and make the post more engaging. This could include diagrams of data science workflows, infographics about the benefits of data science, or videos showcasing real-world applications of data science.\\n4. **Make it interactive:** Encourage readers to share their own experiences or thoughts about data science and its impact on daily life. This could be done through a poll, a quiz, or a call to action that asks readers to share their own stories.\\n5. **Provide additional resources:** Consider adding additional resources or links to provide readers with more information on data science. This could include online courses, tutorials, or books that provide a deeper dive into the topic.\\n\\nBy implementing these recommendations, you can create a more engaging and effective post that showcases the impact of data science on daily life.'}}\n",
      "{'research_critique': {'content': ['If you Googled today, data science has already affected your life. Google touches everything you do online, so it\\'s a great starting point to discuss the impact of data science on your daily life. If you search \"Google,\" you\\'ll get over 11 billion results before you can blink. It\\'s not magic, just very smart algorithms and models.', 'Music, Shows, and Movies. One of the most apparent and personal ways big data affects your personal life is through the entertainment and media you consume. This includes music streaming services as well as television and film platforms. Streaming has revolutionized the music industry, and most people use one or more of the most popular music ...', 'SOME requires the scalar_expression to compare positively to at least one value returned by the subquery. For statements that require the scalar_expression to compare positively to every value that is returned by the subquery, see ALL (Transact-SQL). For instance, if the subquery returns values of 2 and 3, scalar_expression = SOME (subquery ...', '1. Structured Query language (SQL): A structured Query language is a computer language for a relational database system. Relational database system like MySQL oracle Sybase Informix uses SQL as standard database language for storing retrieving manipulating data and store in a relational database. Here are some SQL commands that are used for communi', \"The instructors with salary > (salary of some instructor in the 'Computer Science' department) get returned. The salaries in the 'Computer Science' department are 1.3, 2 and 2. This implies any instructor with a salary greater than 1.3 can be included in the final result. Exercise: Try to write same query using ANY clause.\", 'Remarks. SOME requires the scalar_expression to compare positively to at least one value returned by the subquery. For statements that require the scalar_expression to compare positively to every value that is returned by the subquery, see ALL (Transact-SQL). For instance, if the subquery returns values of 2 and 3, scalar_expression = SOME ...', 'If you Googled today, data science has already affected your life. Google touches everything you do online, so it\\'s a great starting point to discuss the impact of data science on your daily life. If you search \"Google,\" you\\'ll get over 11 billion results before you can blink. It\\'s not magic, just very smart algorithms and models.', 'Data science tools and practices have become critical components of modern political campaigns and elections. Campaign strategists use data science insights to target and mobilize voters, tailor messaging, and optimize campaign strategies. Voters and engaged citizens often turn to sites like 538 to stay informed on campaign trends and potential ...', \"Key Skills:\\nTools:\\nRole\\nResponsibilities\\nKey Skills\\nEssential Tools\\nData Analyst\\nExtract and report insights from data for business problem-solving\\nSQL, Python, or R\\nSQL, Python or R, Data visualization tools (e.g., Tableau, PowerBI), Statistical software (e.g., SPSS, SAS), Spreadsheet tools\\nData Scientist\\nUnearth meaningful insights, develop data-driven solutions using machine learning, communicate findings\\nPython, R, SQL, Machine Learning and AI concepts, Statistical analysis, Data visualization, Communication and presentation skills\\nPandas, NumPy, Scikit-learn, Matplotlib, Tableau, Airflow, Spark, Git, Bash\\nData Engineer\\nDesign, build, and manage data infrastructure, create data pipelines, ensure optimal performance\\nSQL, Python, Java, Database design, Big data technologies, Data modeling, Problem-solving, Communication skills\\nSQL, Python, Java, Hadoop, Spark, ETL tools, NoSQL databases\\nMachine Learning Engineer\\nDesign and deploy machine learning systems, solve complex problems using ML, collaborate with teams\\nPython, Java, Scala, Machine learning frameworks, Data structures, Software architecture, Mathematics, Teamwork, Problem-solving skills\\nScikit-learn, TensorFlow, Pandas, NumPy, Cloud platforms (e.g., AWS, Google Cloud Platform), Version control systems (e.g., Git)\\nHow to Get Started with Data Science\\nData science is an interdisciplinary field, and to get started, you'll need to acquire a mix of skills from mathematics, statistics, computer science, and domain-specific knowledge. Industry\\nFocus\\nTechnical Emphasis\\nData Science\\nDriving value with data across the 4 levels of analytics\\nProgramming, ML, Statistics\\nData Analytics\\nPerform statistical analysis on existing datasets\\nStatistical analysis\\nBusiness Analytics\\nLeverage data for strategic business decisions\\nBusiness strategies, data analysis\\nData Engineering\\nBuild and maintain data infrastructure\\nData collection, storage, processing\\nMachine Learning\\nCreating and implementing algorithms for machine learning\\nAlgorithm development, model implementation\\nStatistics\\nData collection, analysis, interpretation, and organization\\nStatistical analysis, mathematical principles\\nHaving understood these distinctions, we can now delve into the key concepts every data scientist needs to master.\\n A Beginner's Tutorial\\n5 Common Data Science Challenges and Effective Solutions\\nDataCamp Team\\n8 min\\nTop 32 AWS Interview Questions and Answers For 2024\\nZoumana Keita\\n15 min\\nA Data Science Roadmap for 2024\\nMark Graus\\n10 min\\nAvoiding Burnout for Data Professionals with Jen Fisher, Human Sustainability Leader at Deloitte\\nAdel Nehme\\n44 min\\nBecoming Remarkable with Guy Kawasaki, Author and Chief Evangelist at Canva\\nRichie Cotton\\n55 min\\nIntroduction to DynamoDB: 5 Common Data Science Challenges and Effective Solutions\\nTop 32 AWS Interview Questions and Answers For 2024\\nA Data Science Roadmap for 2024\\nAvoiding Burnout for Data Professionals with Jen Fisher, Human Sustainability Leader at Deloitte\\nBecoming Remarkable with Guy Kawasaki, Author and Chief Evangelist at Canva\\nIntroduction to DynamoDB: The data science lifecycle\\nThe data science lifecycle refers to the various stages a data science project generally undergoes, from initial conception and data collection to communicating results and insights.\\n\", 'Data science is an interdisciplinary field that uses various methods and techniques to extract knowledge and insights from data. Learn about its foundations, relationship to statistics, etymology, and modern usage in different domains.', 'Learn how to tie your shoes, make hard choices, grow fresh air, spot a liar and more from this curated playlist of TED Talks. Discover practical tips and insights from experts and storytellers on various aspects of everyday life.', 'The Impact of Procrastination on Productivity\\nHow to Cope With Anxiety-Induced Procrastination\\nHow to Break the Perfectionism-Procrastination Loop\\nRead More\\n15 Work-Life Balance Books to Help You Take Control of Life\\nWork Life Balance for Women: What It Means & How to Find It\\n6 Essential Mindsets For Continuous Career Growth\\nHow to Discover Your Next Career Move Amid the Great Resignation\\nThe Key to Creating a Vibrant (And Magical Life) by Lee Cockerell\\n9 Tips on How To Disconnect From Work And Stay Present\\nWork-Life Integration vs Work-Life Balance: Is One Better Than the Other?\\nHow To Practice Self-Advocacy in the Workplace (Go-to Guide)\\nRead Next\\nHow to Boost Your Focus And Attention Span\\nWhat Are Distractions in a Nutshell?\\n What Is Procrastination And How To End It\\nPrioritization — Using Your Time & Energy Effectively\\nDelegation — Leveraging Your Time & Resources\\nYour Guide to Effective Planning & Scheduling\\nThe Ultimate Guide to Achieving Goals\\nHow to Find Lasting Motivation\\nComplete Guide to Getting Back Your Energy\\nHow to Have a Good Life Balance\\nExplore the Time Flow System\\nAbout the Time Flow System\\nKey Philosophy Read More\\nHow to Use a Planner Effectively\\nHow to Be a Better Planner: Avoid the Planning Fallacy\\n5 Best Apps to Help You Delegate Tasks Easily\\nDelegating Leadership Style: What Is It & When To Use It?\\n Source: Reddit\\xa0LifeProTips\\n100 More Practical Life Hacks to Try\\nIf you are wondering, what useful life hacks can you use to make your everyday life simpler, here is a list to peruse:\\nSome Good Life Hacks\\n1. Lifestyle\\n200 Incredible Life Hacks That Make Life So Much Easier\\nLife hacks are intended to improve your life, and as per its real definition, it’s a system or procedure taken on to deal with one’s time and everyday exercises in a more effective manner.\\n', \"Synonyms of impact\\nimpact\\n1 of 2\\nnoun\\nSynonyms & Similar Words\\nSynonyms & Similar Words\\nAntonyms & Near Antonyms\\nSynonyms & Similar Words\\nimpact\\nverb\\nSynonyms & Similar Words\\nAntonyms & Near Antonyms\\nSynonyms & Similar Words\\nAntonyms & Near Antonyms\\nSynonyms & Similar Words\\nAntonyms & Near Antonyms\\nSynonym Chooser\\nHow is the word impact different from other nouns like it?\\n Popular in Grammar & Usage\\nHypercorrections: Are you making these 6 common mistakes?\\n7 Pairs of Commonly Confused Words\\nMore Commonly Misspelled Words\\nCommonly Misspelled Words\\nA Guide to Em Dashes, En Dashes, and Hyphens\\nPopular in Wordplay\\n17 of the Finest Words for Drinking\\nGreat Big List of Beautiful and Useless Words, Vol. 1\\nThe Words of the Week - Dec. 29\\n All your favorite pet peeves\\nFunner, Stupider, and Other Words That...\\nDon't argue with the dictionary\\nThe Good, The Bad, & The...\\nGofer, gag order, polar vortex, squall, impact, hypothermia, windchill, incompetent\\nThesaurus Entries Near impact\\nimp\\nimpact\\nimpacted\\nCite this Entry\\n“Impact.” Share\\nMore from Merriam-Webster on impact\\nNglish: Translation of impact for Spanish Speakers\\nBritannica English: Translation of impact for Arabic Speakers\\nBritannica.com: Encyclopedia article about impact\\nSubscribe to America's largest dictionary and get thousands more definitions and advanced search—ad free!\\n Your Favorite Band is in the Dictionary\\nEtymologies for Every Day of the Week\\nGames & Quizzes\\nLearn a new word every day.\", \"Verb\\n1601, in the meaning defined at transitive sense 2a\\nPhrases Containing impact\\nArticles Related to impact\\nMerriam-Websterâ€™s Great Big List of...\\nAll your favorite pet peeves\\nFunner, Stupider, and Other Words That...\\nDon't argue with the dictionary\\nThe Good, The Bad, & The...\\nGofer, gag order, polar vortex, squall, impact, hypothermia, windchill, incompetent\\nDictionary Entries Near impact\\nimp\\nimpact\\nimpact bomb\\nCite this Entry\\n“Impact.” Popular in Grammar & Usage\\nHypercorrections: Are you making these 6 common mistakes?\\n7 Pairs of Commonly Confused Words\\nMore Commonly Misspelled Words\\nCommonly Misspelled Words\\nA Guide to Em Dashes, En Dashes, and Hyphens\\nPopular in Wordplay\\n17 of the Finest Words for Drinking\\nGreat Big List of Beautiful and Useless Words, Vol. 1\\nThe Words of the Week - Dec. 29\\n Share\\nKids Definition\\nimpact\\nimpact\\nMore from Merriam-Webster on impact\\nNglish: Translation of impact for Spanish Speakers\\nBritannica English: Translation of impact for Arabic Speakers\\nBritannica.com: Encyclopedia article about impact\\nSubscribe to America's largest dictionary and get thousands more definitions and advanced search—ad free!\\n impact\\nnoun\\nimpact\\nverb\\ntransitive verb\\nintransitive verb\\nDid you know?\\n Word History\\nVerb\\nLatin impactus, past participle of impingere to push against\\nâ€” more at impinge\\nNoun\\n1781, in the meaning defined at sense 1a\\n\"]}}\n",
      "{'generate': {'draft': \"Here is a rewritten version of the post that incorporates the suggestions and outline provided:\\n\\n**The Power of Data Science: How It's Transforming Industries and Improving Our Daily Lives**\\n\\nData science is a powerful tool that has the potential to transform industries and improve our daily lives. But what exactly is data science, and how does it work?\\n\\n**What is Data Science?**\\n\\nData science is a multidisciplinary field that combines programming, statistics, and domain expertise to extract insights from data. It involves collecting, cleaning, analyzing, and visualizing data to make informed decisions. From predicting customer behavior to optimizing supply chains, data science is used in a wide range of industries and applications.\\n\\n**Benefits of Data Science**\\n\\nData science has numerous benefits, including:\\n\\n• Uncovering patterns and trends that can inform business decisions\\n• Driving innovation and growth through data-driven insights\\n• Improving decision-making through data analysis and visualization\\n\\n**How Data Science Impacts Daily Life**\\n\\nData science is transforming industries and improving our daily lives in many ways. For example, it's used in:\\n\\n• Healthcare to develop personalized treatments and improve patient outcomes\\n• Finance to optimize investment portfolios and predict market trends\\n• Marketing to target customers with personalized ads and improve customer engagement\\n\\n**How Do You See Data Science Impacting Your Daily Life?**\\n\\nAs data science continues to transform industries and improve our daily lives, it's essential to consider how it's impacting our daily lives. How do you see data science impacting your daily life? Share your thoughts in the comments below!\\n\\n**Additional Resources**\\n\\nFor more information on data science, check out our beginner's guide to data science. Start exploring data science today and discover the many ways it can improve your daily life!\\n\\nBy following this outline, the post can be improved to engage readers and provide a clear and concise overview of data science.\", 'revision_number': 3}}\n"
     ]
    },
    {
     "ename": "KeyError",
     "evalue": "'state'",
     "output_type": "error",
     "traceback": [
      "\u001b[1;31m---------------------------------------------------------------------------\u001b[0m",
      "\u001b[1;31mKeyError\u001b[0m                                  Traceback (most recent call last)",
      "Cell \u001b[1;32mIn[33], line 3\u001b[0m\n\u001b[0;32m      1\u001b[0m \u001b[38;5;66;03m# testing the function\u001b[39;00m\n\u001b[0;32m      2\u001b[0m thread \u001b[38;5;241m=\u001b[39m {\u001b[38;5;124m\"\u001b[39m\u001b[38;5;124mconfigurable\u001b[39m\u001b[38;5;124m\"\u001b[39m: {\u001b[38;5;124m\"\u001b[39m\u001b[38;5;124mthread_id\u001b[39m\u001b[38;5;124m\"\u001b[39m: \u001b[38;5;124m\"\u001b[39m\u001b[38;5;124m1\u001b[39m\u001b[38;5;124m\"\u001b[39m}}\n\u001b[1;32m----> 3\u001b[0m new_post \u001b[38;5;241m=\u001b[39m \u001b[43mrun_graph\u001b[49m\u001b[43m(\u001b[49m\u001b[43mtask\u001b[49m\u001b[43m,\u001b[49m\u001b[43m \u001b[49m\u001b[43mthread\u001b[49m\u001b[38;5;241;43m=\u001b[39;49m\u001b[43mthread\u001b[49m\u001b[43m)\u001b[49m\n",
      "Cell \u001b[1;32mIn[32], line 11\u001b[0m, in \u001b[0;36mrun_graph\u001b[1;34m(task, max_revisions, thread)\u001b[0m\n\u001b[0;32m      8\u001b[0m     \u001b[38;5;28mprint\u001b[39m(s)\n\u001b[0;32m     10\u001b[0m \u001b[38;5;66;03m# return the final state\u001b[39;00m\n\u001b[1;32m---> 11\u001b[0m \u001b[38;5;28;01mreturn\u001b[39;00m \u001b[43ms\u001b[49m\u001b[43m[\u001b[49m\u001b[38;5;124;43m'\u001b[39;49m\u001b[38;5;124;43mgenerate\u001b[39;49m\u001b[38;5;124;43m'\u001b[39;49m\u001b[43m]\u001b[49m\u001b[43m[\u001b[49m\u001b[38;5;124;43m'\u001b[39;49m\u001b[38;5;124;43mstate\u001b[39;49m\u001b[38;5;124;43m'\u001b[39;49m\u001b[43m]\u001b[49m\n",
      "\u001b[1;31mKeyError\u001b[0m: 'state'"
     ]
    }
   ],
   "source": [
    "# testing the function\n",
    "thread = {\"configurable\": {\"thread_id\": \"1\"}}\n",
    "new_post = run_graph(task, thread=thread)"
   ]
  },
  {
   "cell_type": "code",
   "execution_count": null,
   "metadata": {},
   "outputs": [],
   "source": []
  }
 ],
 "metadata": {
  "kernelspec": {
   "display_name": "genai_env",
   "language": "python",
   "name": "python3"
  },
  "language_info": {
   "codemirror_mode": {
    "name": "ipython",
    "version": 3
   },
   "file_extension": ".py",
   "mimetype": "text/x-python",
   "name": "python",
   "nbconvert_exporter": "python",
   "pygments_lexer": "ipython3",
   "version": "3.11.9"
  }
 },
 "nbformat": 4,
 "nbformat_minor": 2
}
